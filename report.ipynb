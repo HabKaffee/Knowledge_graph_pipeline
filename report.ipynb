{
 "cells": [
  {
   "cell_type": "code",
   "execution_count": 2,
   "id": "01254348",
   "metadata": {},
   "outputs": [
    {
     "name": "stdout",
     "output_type": "stream",
     "text": [
      "GPU used\n"
     ]
    },
    {
     "ename": "KeyboardInterrupt",
     "evalue": "",
     "output_type": "error",
     "traceback": [
      "\u001b[0;31m---------------------------------------------------------------------------\u001b[0m",
      "\u001b[0;31mKeyboardInterrupt\u001b[0m                         Traceback (most recent call last)",
      "Cell \u001b[0;32mIn[2], line 3\u001b[0m\n\u001b[1;32m      1\u001b[0m \u001b[38;5;28;01mfrom\u001b[39;00m \u001b[38;5;21;01msrc\u001b[39;00m\u001b[38;5;21;01m.\u001b[39;00m\u001b[38;5;21;01mner\u001b[39;00m \u001b[38;5;28;01mimport\u001b[39;00m do_ner, do_pos\n\u001b[0;32m----> 3\u001b[0m \u001b[43mdo_ner\u001b[49m\u001b[43m(\u001b[49m\u001b[43m)\u001b[49m\n",
      "File \u001b[0;32m~/programming/KG_pipeline/src/ner.py:33\u001b[0m, in \u001b[0;36mdo_ner\u001b[0;34m()\u001b[0m\n\u001b[1;32m     21\u001b[0m preprocessed_corpus, preprocessed_texts \u001b[38;5;241m=\u001b[39m load_preprocessed_data(\u001b[38;5;124mf\u001b[39m\u001b[38;5;124m'\u001b[39m\u001b[38;5;132;01m{\u001b[39;00mos\u001b[38;5;241m.\u001b[39mgetcwd()\u001b[38;5;132;01m}\u001b[39;00m\u001b[38;5;124m/data/result.json\u001b[39m\u001b[38;5;124m'\u001b[39m)\n\u001b[1;32m     22\u001b[0m \u001b[38;5;66;03m# test_corpus = ['Эта книга адресована всем, кто изучает русский язык. \\\u001b[39;00m\n\u001b[1;32m     23\u001b[0m \u001b[38;5;66;03m#                 Но состоит она не из правил, упражнений и учебных текстов. \\\u001b[39;00m\n\u001b[1;32m     24\u001b[0m \u001b[38;5;66;03m#                 Для этого созданы другие замечательные учебники. \\\u001b[39;00m\n\u001b[0;32m   (...)\u001b[0m\n\u001b[1;32m     31\u001b[0m \u001b[38;5;66;03m#                 Но вы должны обязательно подумать и обосновать, почему вы так считаете. \\\u001b[39;00m\n\u001b[1;32m     32\u001b[0m \u001b[38;5;66;03m#                 А еще вы узнаете и почувствуете, как прекрасно звучат слова любви, сострадания, мудрости и доброты на русском языке.']\u001b[39;00m\n\u001b[0;32m---> 33\u001b[0m corpus_after_lm \u001b[38;5;241m=\u001b[39m [lang_model(doc) \u001b[38;5;28;01mfor\u001b[39;00m doc \u001b[38;5;129;01min\u001b[39;00m preprocessed_corpus]\n\u001b[1;32m     34\u001b[0m named_entities \u001b[38;5;241m=\u001b[39m {doc : [] \u001b[38;5;28;01mfor\u001b[39;00m doc \u001b[38;5;129;01min\u001b[39;00m corpus_after_lm}\n\u001b[1;32m     35\u001b[0m \u001b[38;5;28;01mfor\u001b[39;00m text \u001b[38;5;129;01min\u001b[39;00m tqdm\u001b[38;5;241m.\u001b[39mnotebook(corpus_after_lm):\n",
      "File \u001b[0;32m~/programming/KG_pipeline/src/ner.py:33\u001b[0m, in \u001b[0;36m<listcomp>\u001b[0;34m(.0)\u001b[0m\n\u001b[1;32m     21\u001b[0m preprocessed_corpus, preprocessed_texts \u001b[38;5;241m=\u001b[39m load_preprocessed_data(\u001b[38;5;124mf\u001b[39m\u001b[38;5;124m'\u001b[39m\u001b[38;5;132;01m{\u001b[39;00mos\u001b[38;5;241m.\u001b[39mgetcwd()\u001b[38;5;132;01m}\u001b[39;00m\u001b[38;5;124m/data/result.json\u001b[39m\u001b[38;5;124m'\u001b[39m)\n\u001b[1;32m     22\u001b[0m \u001b[38;5;66;03m# test_corpus = ['Эта книга адресована всем, кто изучает русский язык. \\\u001b[39;00m\n\u001b[1;32m     23\u001b[0m \u001b[38;5;66;03m#                 Но состоит она не из правил, упражнений и учебных текстов. \\\u001b[39;00m\n\u001b[1;32m     24\u001b[0m \u001b[38;5;66;03m#                 Для этого созданы другие замечательные учебники. \\\u001b[39;00m\n\u001b[0;32m   (...)\u001b[0m\n\u001b[1;32m     31\u001b[0m \u001b[38;5;66;03m#                 Но вы должны обязательно подумать и обосновать, почему вы так считаете. \\\u001b[39;00m\n\u001b[1;32m     32\u001b[0m \u001b[38;5;66;03m#                 А еще вы узнаете и почувствуете, как прекрасно звучат слова любви, сострадания, мудрости и доброты на русском языке.']\u001b[39;00m\n\u001b[0;32m---> 33\u001b[0m corpus_after_lm \u001b[38;5;241m=\u001b[39m [\u001b[43mlang_model\u001b[49m\u001b[43m(\u001b[49m\u001b[43mdoc\u001b[49m\u001b[43m)\u001b[49m \u001b[38;5;28;01mfor\u001b[39;00m doc \u001b[38;5;129;01min\u001b[39;00m preprocessed_corpus]\n\u001b[1;32m     34\u001b[0m named_entities \u001b[38;5;241m=\u001b[39m {doc : [] \u001b[38;5;28;01mfor\u001b[39;00m doc \u001b[38;5;129;01min\u001b[39;00m corpus_after_lm}\n\u001b[1;32m     35\u001b[0m \u001b[38;5;28;01mfor\u001b[39;00m text \u001b[38;5;129;01min\u001b[39;00m tqdm\u001b[38;5;241m.\u001b[39mnotebook(corpus_after_lm):\n",
      "File \u001b[0;32m~/anaconda3/envs/KG_pipeline/lib/python3.10/site-packages/spacy/language.py:1011\u001b[0m, in \u001b[0;36mLanguage.__call__\u001b[0;34m(self, text, disable, component_cfg)\u001b[0m\n\u001b[1;32m   1009\u001b[0m     error_handler \u001b[38;5;241m=\u001b[39m proc\u001b[38;5;241m.\u001b[39mget_error_handler()\n\u001b[1;32m   1010\u001b[0m \u001b[38;5;28;01mtry\u001b[39;00m:\n\u001b[0;32m-> 1011\u001b[0m     doc \u001b[38;5;241m=\u001b[39m \u001b[43mproc\u001b[49m\u001b[43m(\u001b[49m\u001b[43mdoc\u001b[49m\u001b[43m,\u001b[49m\u001b[43m \u001b[49m\u001b[38;5;241;43m*\u001b[39;49m\u001b[38;5;241;43m*\u001b[39;49m\u001b[43mcomponent_cfg\u001b[49m\u001b[38;5;241;43m.\u001b[39;49m\u001b[43mget\u001b[49m\u001b[43m(\u001b[49m\u001b[43mname\u001b[49m\u001b[43m,\u001b[49m\u001b[43m \u001b[49m\u001b[43m{\u001b[49m\u001b[43m}\u001b[49m\u001b[43m)\u001b[49m\u001b[43m)\u001b[49m  \u001b[38;5;66;03m# type: ignore[call-arg]\u001b[39;00m\n\u001b[1;32m   1012\u001b[0m \u001b[38;5;28;01mexcept\u001b[39;00m \u001b[38;5;167;01mKeyError\u001b[39;00m \u001b[38;5;28;01mas\u001b[39;00m e:\n\u001b[1;32m   1013\u001b[0m     \u001b[38;5;66;03m# This typically happens if a component is not initialized\u001b[39;00m\n\u001b[1;32m   1014\u001b[0m     \u001b[38;5;28;01mraise\u001b[39;00m \u001b[38;5;167;01mValueError\u001b[39;00m(Errors\u001b[38;5;241m.\u001b[39mE109\u001b[38;5;241m.\u001b[39mformat(name\u001b[38;5;241m=\u001b[39mname)) \u001b[38;5;28;01mfrom\u001b[39;00m \u001b[38;5;21;01me\u001b[39;00m\n",
      "File \u001b[0;32m~/anaconda3/envs/KG_pipeline/lib/python3.10/site-packages/spacy/pipeline/lemmatizer.py:135\u001b[0m, in \u001b[0;36mLemmatizer.__call__\u001b[0;34m(self, doc)\u001b[0m\n\u001b[1;32m    133\u001b[0m     \u001b[38;5;28;01mfor\u001b[39;00m token \u001b[38;5;129;01min\u001b[39;00m doc:\n\u001b[1;32m    134\u001b[0m         \u001b[38;5;28;01mif\u001b[39;00m \u001b[38;5;28mself\u001b[39m\u001b[38;5;241m.\u001b[39moverwrite \u001b[38;5;129;01mor\u001b[39;00m token\u001b[38;5;241m.\u001b[39mlemma \u001b[38;5;241m==\u001b[39m \u001b[38;5;241m0\u001b[39m:\n\u001b[0;32m--> 135\u001b[0m             token\u001b[38;5;241m.\u001b[39mlemma_ \u001b[38;5;241m=\u001b[39m \u001b[38;5;28;43mself\u001b[39;49m\u001b[38;5;241;43m.\u001b[39;49m\u001b[43mlemmatize\u001b[49m\u001b[43m(\u001b[49m\u001b[43mtoken\u001b[49m\u001b[43m)\u001b[49m[\u001b[38;5;241m0\u001b[39m]\n\u001b[1;32m    136\u001b[0m     \u001b[38;5;28;01mreturn\u001b[39;00m doc\n\u001b[1;32m    137\u001b[0m \u001b[38;5;28;01mexcept\u001b[39;00m \u001b[38;5;167;01mException\u001b[39;00m \u001b[38;5;28;01mas\u001b[39;00m e:\n",
      "File \u001b[0;32m~/anaconda3/envs/KG_pipeline/lib/python3.10/site-packages/spacy/lang/ru/lemmatizer.py:134\u001b[0m, in \u001b[0;36mRussianLemmatizer.pymorphy3_lemmatize\u001b[0;34m(self, token)\u001b[0m\n\u001b[1;32m    133\u001b[0m \u001b[38;5;28;01mdef\u001b[39;00m \u001b[38;5;21mpymorphy3_lemmatize\u001b[39m(\u001b[38;5;28mself\u001b[39m, token: Token) \u001b[38;5;241m-\u001b[39m\u001b[38;5;241m>\u001b[39m List[\u001b[38;5;28mstr\u001b[39m]:\n\u001b[0;32m--> 134\u001b[0m     \u001b[38;5;28;01mreturn\u001b[39;00m \u001b[38;5;28;43mself\u001b[39;49m\u001b[38;5;241;43m.\u001b[39;49m\u001b[43m_pymorphy_lemmatize\u001b[49m\u001b[43m(\u001b[49m\u001b[43mtoken\u001b[49m\u001b[43m)\u001b[49m\n",
      "File \u001b[0;32m~/anaconda3/envs/KG_pipeline/lib/python3.10/site-packages/spacy/lang/ru/lemmatizer.py:63\u001b[0m, in \u001b[0;36mRussianLemmatizer._pymorphy_lemmatize\u001b[0;34m(self, token)\u001b[0m\n\u001b[1;32m     61\u001b[0m     \u001b[38;5;28;01mreturn\u001b[39;00m [PUNCT_RULES\u001b[38;5;241m.\u001b[39mget(string, string)]\n\u001b[1;32m     62\u001b[0m \u001b[38;5;28;01mif\u001b[39;00m univ_pos \u001b[38;5;129;01mnot\u001b[39;00m \u001b[38;5;129;01min\u001b[39;00m (\u001b[38;5;124m\"\u001b[39m\u001b[38;5;124mADJ\u001b[39m\u001b[38;5;124m\"\u001b[39m, \u001b[38;5;124m\"\u001b[39m\u001b[38;5;124mDET\u001b[39m\u001b[38;5;124m\"\u001b[39m, \u001b[38;5;124m\"\u001b[39m\u001b[38;5;124mNOUN\u001b[39m\u001b[38;5;124m\"\u001b[39m, \u001b[38;5;124m\"\u001b[39m\u001b[38;5;124mNUM\u001b[39m\u001b[38;5;124m\"\u001b[39m, \u001b[38;5;124m\"\u001b[39m\u001b[38;5;124mPRON\u001b[39m\u001b[38;5;124m\"\u001b[39m, \u001b[38;5;124m\"\u001b[39m\u001b[38;5;124mPROPN\u001b[39m\u001b[38;5;124m\"\u001b[39m, \u001b[38;5;124m\"\u001b[39m\u001b[38;5;124mVERB\u001b[39m\u001b[38;5;124m\"\u001b[39m):\n\u001b[0;32m---> 63\u001b[0m     \u001b[38;5;28;01mreturn\u001b[39;00m \u001b[38;5;28;43mself\u001b[39;49m\u001b[38;5;241;43m.\u001b[39;49m\u001b[43m_pymorphy_lookup_lemmatize\u001b[49m\u001b[43m(\u001b[49m\u001b[43mtoken\u001b[49m\u001b[43m)\u001b[49m\n\u001b[1;32m     64\u001b[0m analyses \u001b[38;5;241m=\u001b[39m \u001b[38;5;28mself\u001b[39m\u001b[38;5;241m.\u001b[39m_morph\u001b[38;5;241m.\u001b[39mparse(string)\n\u001b[1;32m     65\u001b[0m filtered_analyses \u001b[38;5;241m=\u001b[39m []\n",
      "File \u001b[0;32m~/anaconda3/envs/KG_pipeline/lib/python3.10/site-packages/spacy/lang/ru/lemmatizer.py:119\u001b[0m, in \u001b[0;36mRussianLemmatizer._pymorphy_lookup_lemmatize\u001b[0;34m(self, token)\u001b[0m\n\u001b[1;32m    117\u001b[0m \u001b[38;5;28;01mdef\u001b[39;00m \u001b[38;5;21m_pymorphy_lookup_lemmatize\u001b[39m(\u001b[38;5;28mself\u001b[39m, token: Token) \u001b[38;5;241m-\u001b[39m\u001b[38;5;241m>\u001b[39m List[\u001b[38;5;28mstr\u001b[39m]:\n\u001b[1;32m    118\u001b[0m     string \u001b[38;5;241m=\u001b[39m token\u001b[38;5;241m.\u001b[39mtext\n\u001b[0;32m--> 119\u001b[0m     analyses \u001b[38;5;241m=\u001b[39m \u001b[38;5;28;43mself\u001b[39;49m\u001b[38;5;241;43m.\u001b[39;49m\u001b[43m_morph\u001b[49m\u001b[38;5;241;43m.\u001b[39;49m\u001b[43mparse\u001b[49m\u001b[43m(\u001b[49m\u001b[43mstring\u001b[49m\u001b[43m)\u001b[49m\n\u001b[1;32m    120\u001b[0m     \u001b[38;5;66;03m# often multiple forms would derive from the same normal form\u001b[39;00m\n\u001b[1;32m    121\u001b[0m     \u001b[38;5;66;03m# thus check _unique_ normal forms\u001b[39;00m\n\u001b[1;32m    122\u001b[0m     normal_forms \u001b[38;5;241m=\u001b[39m \u001b[38;5;28mset\u001b[39m([an\u001b[38;5;241m.\u001b[39mnormal_form \u001b[38;5;28;01mfor\u001b[39;00m an \u001b[38;5;129;01min\u001b[39;00m analyses])\n",
      "File \u001b[0;32m~/anaconda3/envs/KG_pipeline/lib/python3.10/site-packages/pymorphy3/analyzer.py:315\u001b[0m, in \u001b[0;36mMorphAnalyzer.parse\u001b[0;34m(self, word)\u001b[0m\n\u001b[1;32m    312\u001b[0m word_lower \u001b[38;5;241m=\u001b[39m word\u001b[38;5;241m.\u001b[39mlower()\n\u001b[1;32m    314\u001b[0m \u001b[38;5;28;01mfor\u001b[39;00m analyzer, is_terminal \u001b[38;5;129;01min\u001b[39;00m \u001b[38;5;28mself\u001b[39m\u001b[38;5;241m.\u001b[39m_units:\n\u001b[0;32m--> 315\u001b[0m     res\u001b[38;5;241m.\u001b[39mextend(\u001b[43manalyzer\u001b[49m\u001b[38;5;241;43m.\u001b[39;49m\u001b[43mparse\u001b[49m\u001b[43m(\u001b[49m\u001b[43mword\u001b[49m\u001b[43m,\u001b[49m\u001b[43m \u001b[49m\u001b[43mword_lower\u001b[49m\u001b[43m,\u001b[49m\u001b[43m \u001b[49m\u001b[43mseen\u001b[49m\u001b[43m)\u001b[49m)\n\u001b[1;32m    317\u001b[0m     \u001b[38;5;28;01mif\u001b[39;00m is_terminal \u001b[38;5;129;01mand\u001b[39;00m res:\n\u001b[1;32m    318\u001b[0m         \u001b[38;5;28;01mbreak\u001b[39;00m\n",
      "File \u001b[0;32m~/anaconda3/envs/KG_pipeline/lib/python3.10/site-packages/pymorphy3/units/by_lookup.py:24\u001b[0m, in \u001b[0;36mDictionaryAnalyzer.parse\u001b[0;34m(self, word, word_lower, seen_parses)\u001b[0m\n\u001b[1;32m     20\u001b[0m \u001b[38;5;124;03m\"\"\"\u001b[39;00m\n\u001b[1;32m     21\u001b[0m \u001b[38;5;124;03mParse a word using this dictionary.\u001b[39;00m\n\u001b[1;32m     22\u001b[0m \u001b[38;5;124;03m\"\"\"\u001b[39;00m\n\u001b[1;32m     23\u001b[0m res \u001b[38;5;241m=\u001b[39m []\n\u001b[0;32m---> 24\u001b[0m para_data \u001b[38;5;241m=\u001b[39m \u001b[38;5;28;43mself\u001b[39;49m\u001b[38;5;241;43m.\u001b[39;49m\u001b[43mdict\u001b[49m\u001b[38;5;241;43m.\u001b[39;49m\u001b[43mwords\u001b[49m\u001b[38;5;241;43m.\u001b[39;49m\u001b[43msimilar_items\u001b[49m\u001b[43m(\u001b[49m\u001b[43mword_lower\u001b[49m\u001b[43m,\u001b[49m\u001b[43m \u001b[49m\u001b[38;5;28;43mself\u001b[39;49m\u001b[38;5;241;43m.\u001b[39;49m\u001b[43mmorph\u001b[49m\u001b[38;5;241;43m.\u001b[39;49m\u001b[43mchar_substitutes\u001b[49m\u001b[43m)\u001b[49m\n\u001b[1;32m     26\u001b[0m \u001b[38;5;28;01mfor\u001b[39;00m fixed_word, parses \u001b[38;5;129;01min\u001b[39;00m para_data:\n\u001b[1;32m     27\u001b[0m     \u001b[38;5;66;03m# `fixed_word` is a word with proper substitute (e.g. ё) letters\u001b[39;00m\n\u001b[1;32m     29\u001b[0m     \u001b[38;5;28;01mfor\u001b[39;00m para_id, idx \u001b[38;5;129;01min\u001b[39;00m parses:\n",
      "File \u001b[0;32m~/anaconda3/envs/KG_pipeline/lib/python3.10/site-packages/dawg_python/dawgs.py:369\u001b[0m, in \u001b[0;36mBytesDAWG.similar_items\u001b[0;34m(self, key, replaces)\u001b[0m\n\u001b[1;32m    359\u001b[0m \u001b[38;5;28;01mdef\u001b[39;00m \u001b[38;5;21msimilar_items\u001b[39m(\u001b[38;5;28mself\u001b[39m, key, replaces):\n\u001b[1;32m    360\u001b[0m     \u001b[38;5;124;03m\"\"\"\u001b[39;00m\n\u001b[1;32m    361\u001b[0m \u001b[38;5;124;03m    Returns a list of (key, value) tuples for all variants of ``key``\u001b[39;00m\n\u001b[1;32m    362\u001b[0m \u001b[38;5;124;03m    in this DAWG according to ``replaces``.\u001b[39;00m\n\u001b[0;32m   (...)\u001b[0m\n\u001b[1;32m    367\u001b[0m \u001b[38;5;124;03m    unicode strings.\u001b[39;00m\n\u001b[1;32m    368\u001b[0m \u001b[38;5;124;03m    \"\"\"\u001b[39;00m\n\u001b[0;32m--> 369\u001b[0m     \u001b[38;5;28;01mreturn\u001b[39;00m \u001b[38;5;28;43mself\u001b[39;49m\u001b[38;5;241;43m.\u001b[39;49m\u001b[43m_similar_items\u001b[49m\u001b[43m(\u001b[49m\u001b[38;5;124;43m\"\u001b[39;49m\u001b[38;5;124;43m\"\u001b[39;49m\u001b[43m,\u001b[49m\u001b[43m \u001b[49m\u001b[43mkey\u001b[49m\u001b[43m,\u001b[49m\u001b[43m \u001b[49m\u001b[38;5;28;43mself\u001b[39;49m\u001b[38;5;241;43m.\u001b[39;49m\u001b[43mdct\u001b[49m\u001b[38;5;241;43m.\u001b[39;49m\u001b[43mROOT\u001b[49m\u001b[43m,\u001b[49m\u001b[43m \u001b[49m\u001b[43mreplaces\u001b[49m\u001b[43m)\u001b[49m\n",
      "File \u001b[0;32m~/anaconda3/envs/KG_pipeline/lib/python3.10/site-packages/dawg_python/dawgs.py:354\u001b[0m, in \u001b[0;36mBytesDAWG._similar_items\u001b[0;34m(self, current_prefix, key, index, replace_chars)\u001b[0m\n\u001b[1;32m    352\u001b[0m     \u001b[38;5;28;01mif\u001b[39;00m index:\n\u001b[1;32m    353\u001b[0m         found_key \u001b[38;5;241m=\u001b[39m current_prefix \u001b[38;5;241m+\u001b[39m key[start_pos:]\n\u001b[0;32m--> 354\u001b[0m         value \u001b[38;5;241m=\u001b[39m \u001b[38;5;28;43mself\u001b[39;49m\u001b[38;5;241;43m.\u001b[39;49m\u001b[43m_value_for_index\u001b[49m\u001b[43m(\u001b[49m\u001b[43mindex\u001b[49m\u001b[43m)\u001b[49m\n\u001b[1;32m    355\u001b[0m         res\u001b[38;5;241m.\u001b[39minsert(\u001b[38;5;241m0\u001b[39m, (found_key, value))\n\u001b[1;32m    357\u001b[0m \u001b[38;5;28;01mreturn\u001b[39;00m res\n",
      "File \u001b[0;32m~/anaconda3/envs/KG_pipeline/lib/python3.10/site-packages/dawg_python/dawgs.py:422\u001b[0m, in \u001b[0;36mRecordDAWG._value_for_index\u001b[0;34m(self, index)\u001b[0m\n\u001b[1;32m    421\u001b[0m \u001b[38;5;28;01mdef\u001b[39;00m \u001b[38;5;21m_value_for_index\u001b[39m(\u001b[38;5;28mself\u001b[39m, index):\n\u001b[0;32m--> 422\u001b[0m     value \u001b[38;5;241m=\u001b[39m \u001b[38;5;28;43msuper\u001b[39;49m\u001b[43m(\u001b[49m\u001b[43mRecordDAWG\u001b[49m\u001b[43m,\u001b[49m\u001b[43m \u001b[49m\u001b[38;5;28;43mself\u001b[39;49m\u001b[43m)\u001b[49m\u001b[38;5;241;43m.\u001b[39;49m\u001b[43m_value_for_index\u001b[49m\u001b[43m(\u001b[49m\u001b[43mindex\u001b[49m\u001b[43m)\u001b[49m\n\u001b[1;32m    423\u001b[0m     \u001b[38;5;28;01mreturn\u001b[39;00m [\u001b[38;5;28mself\u001b[39m\u001b[38;5;241m.\u001b[39m_struct\u001b[38;5;241m.\u001b[39munpack(val) \u001b[38;5;28;01mfor\u001b[39;00m val \u001b[38;5;129;01min\u001b[39;00m value]\n",
      "File \u001b[0;32m~/anaconda3/envs/KG_pipeline/lib/python3.10/site-packages/dawg_python/dawgs.py:227\u001b[0m, in \u001b[0;36mBytesDAWG._value_for_index\u001b[0;34m(self, index)\u001b[0m\n\u001b[1;32m    224\u001b[0m completer \u001b[38;5;241m=\u001b[39m wrapper\u001b[38;5;241m.\u001b[39mCompleter(\u001b[38;5;28mself\u001b[39m\u001b[38;5;241m.\u001b[39mdct, \u001b[38;5;28mself\u001b[39m\u001b[38;5;241m.\u001b[39mguide)\n\u001b[1;32m    226\u001b[0m completer\u001b[38;5;241m.\u001b[39mstart(index)\n\u001b[0;32m--> 227\u001b[0m \u001b[38;5;28;01mwhile\u001b[39;00m \u001b[43mcompleter\u001b[49m\u001b[38;5;241;43m.\u001b[39;49m\u001b[43mnext\u001b[49m\u001b[43m(\u001b[49m\u001b[43m)\u001b[49m:\n\u001b[1;32m    228\u001b[0m     \u001b[38;5;66;03m# a2b_base64 doesn't support bytearray in python 2.6\u001b[39;00m\n\u001b[1;32m    229\u001b[0m     \u001b[38;5;66;03m# so it is converted (and copied) to bytes\u001b[39;00m\n\u001b[1;32m    230\u001b[0m     b64_data \u001b[38;5;241m=\u001b[39m \u001b[38;5;28mbytes\u001b[39m(completer\u001b[38;5;241m.\u001b[39mkey)\n\u001b[1;32m    231\u001b[0m     res\u001b[38;5;241m.\u001b[39mappend(a2b_base64(b64_data))\n",
      "File \u001b[0;32m~/anaconda3/envs/KG_pipeline/lib/python3.10/site-packages/dawg_python/wrapper.py:154\u001b[0m, in \u001b[0;36mCompleter.next\u001b[0;34m(self)\u001b[0m\n\u001b[1;32m    151\u001b[0m                     \u001b[38;5;28;01mreturn\u001b[39;00m \u001b[38;5;28;01mFalse\u001b[39;00m\n\u001b[1;32m    152\u001b[0m                 \u001b[38;5;28;01mbreak\u001b[39;00m\n\u001b[0;32m--> 154\u001b[0m \u001b[38;5;28;01mreturn\u001b[39;00m \u001b[38;5;28;43mself\u001b[39;49m\u001b[38;5;241;43m.\u001b[39;49m\u001b[43m_find_terminal\u001b[49m\u001b[43m(\u001b[49m\u001b[43mindex\u001b[49m\u001b[43m)\u001b[49m\n",
      "File \u001b[0;32m~/anaconda3/envs/KG_pipeline/lib/python3.10/site-packages/dawg_python/wrapper.py:169\u001b[0m, in \u001b[0;36mCompleter._find_terminal\u001b[0;34m(self, index)\u001b[0m\n\u001b[1;32m    166\u001b[0m \u001b[38;5;28;01mwhile\u001b[39;00m \u001b[38;5;129;01mnot\u001b[39;00m \u001b[38;5;28mself\u001b[39m\u001b[38;5;241m.\u001b[39m_dic\u001b[38;5;241m.\u001b[39mhas_value(index):\n\u001b[1;32m    167\u001b[0m     label \u001b[38;5;241m=\u001b[39m \u001b[38;5;28mself\u001b[39m\u001b[38;5;241m.\u001b[39m_guide\u001b[38;5;241m.\u001b[39mchild(index)\n\u001b[0;32m--> 169\u001b[0m     index \u001b[38;5;241m=\u001b[39m \u001b[38;5;28;43mself\u001b[39;49m\u001b[38;5;241;43m.\u001b[39;49m\u001b[43m_dic\u001b[49m\u001b[38;5;241;43m.\u001b[39;49m\u001b[43mfollow_char\u001b[49m\u001b[43m(\u001b[49m\u001b[43mlabel\u001b[49m\u001b[43m,\u001b[49m\u001b[43m \u001b[49m\u001b[43mindex\u001b[49m\u001b[43m)\u001b[49m\n\u001b[1;32m    170\u001b[0m     \u001b[38;5;28;01mif\u001b[39;00m index \u001b[38;5;129;01mis\u001b[39;00m \u001b[38;5;28;01mNone\u001b[39;00m:\n\u001b[1;32m    171\u001b[0m         \u001b[38;5;28;01mreturn\u001b[39;00m \u001b[38;5;28;01mFalse\u001b[39;00m\n",
      "File \u001b[0;32m~/anaconda3/envs/KG_pipeline/lib/python3.10/site-packages/dawg_python/wrapper.py:51\u001b[0m, in \u001b[0;36mDictionary.follow_char\u001b[0;34m(self, label, index)\u001b[0m\n\u001b[1;32m     48\u001b[0m         \u001b[38;5;28;01mreturn\u001b[39;00m \u001b[38;5;241m-\u001b[39m\u001b[38;5;241m1\u001b[39m\n\u001b[1;32m     49\u001b[0m     \u001b[38;5;28;01mreturn\u001b[39;00m \u001b[38;5;28mself\u001b[39m\u001b[38;5;241m.\u001b[39mvalue(index)\n\u001b[0;32m---> 51\u001b[0m \u001b[38;5;28;01mdef\u001b[39;00m \u001b[38;5;21mfollow_char\u001b[39m(\u001b[38;5;28mself\u001b[39m, label, index):\n\u001b[1;32m     52\u001b[0m     \u001b[38;5;124m\"\u001b[39m\u001b[38;5;124mFollows a transition\u001b[39m\u001b[38;5;124m\"\u001b[39m\n\u001b[1;32m     53\u001b[0m     offset \u001b[38;5;241m=\u001b[39m units\u001b[38;5;241m.\u001b[39moffset(\u001b[38;5;28mself\u001b[39m\u001b[38;5;241m.\u001b[39m_units[index])\n",
      "\u001b[0;31mKeyboardInterrupt\u001b[0m: "
     ]
    }
   ],
   "source": [
    "from src.ner import do_ner, do_pos\n",
    "\n",
    "do_ner()"
   ]
  },
  {
   "cell_type": "code",
   "execution_count": null,
   "id": "1a61be8f",
   "metadata": {},
   "outputs": [],
   "source": []
  }
 ],
 "metadata": {
  "kernelspec": {
   "display_name": "Python 3 (ipykernel)",
   "language": "python",
   "name": "python3"
  },
  "language_info": {
   "codemirror_mode": {
    "name": "ipython",
    "version": 3
   },
   "file_extension": ".py",
   "mimetype": "text/x-python",
   "name": "python",
   "nbconvert_exporter": "python",
   "pygments_lexer": "ipython3",
   "version": "3.10.11"
  },
  "toc": {
   "base_numbering": 1,
   "nav_menu": {},
   "number_sections": true,
   "sideBar": true,
   "skip_h1_title": false,
   "title_cell": "Table of Contents",
   "title_sidebar": "Contents",
   "toc_cell": false,
   "toc_position": {},
   "toc_section_display": true,
   "toc_window_display": false
  },
  "varInspector": {
   "cols": {
    "lenName": 16,
    "lenType": 16,
    "lenVar": 40
   },
   "kernels_config": {
    "python": {
     "delete_cmd_postfix": "",
     "delete_cmd_prefix": "del ",
     "library": "var_list.py",
     "varRefreshCmd": "print(var_dic_list())"
    },
    "r": {
     "delete_cmd_postfix": ") ",
     "delete_cmd_prefix": "rm(",
     "library": "var_list.r",
     "varRefreshCmd": "cat(var_dic_list()) "
    }
   },
   "types_to_exclude": [
    "module",
    "function",
    "builtin_function_or_method",
    "instance",
    "_Feature"
   ],
   "window_display": false
  }
 },
 "nbformat": 4,
 "nbformat_minor": 5
}
