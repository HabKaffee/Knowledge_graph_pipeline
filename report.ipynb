{
 "cells": [
  {
   "cell_type": "code",
   "execution_count": 1,
   "id": "78de494d",
   "metadata": {},
   "outputs": [],
   "source": [
    "from src.triples_extraction import pos_tagging, extract_triples, clean_triples\n",
    "from src.visualisation import visualise_graph\n",
    "from src.utilities import load_triples, dump_triples_to_file\n",
    "import os\n",
    "import tqdm"
   ]
  },
  {
   "attachments": {},
   "cell_type": "markdown",
   "id": "fccbc2c1",
   "metadata": {},
   "source": [
    "# Data crawling"
   ]
  },
  {
   "cell_type": "code",
   "execution_count": null,
   "id": "1b26a1dc",
   "metadata": {},
   "outputs": [],
   "source": [
    "from src.crawler import crawl_data_from_vesti_ru\n",
    "number_of_articles = 1000\n",
    "crawl_data_from_vesti_ru(number_of_articles)"
   ]
  },
  {
   "attachments": {},
   "cell_type": "markdown",
   "id": "d2d2c670",
   "metadata": {},
   "source": [
    "# Part of speech tagging"
   ]
  },
  {
   "cell_type": "code",
   "execution_count": 2,
   "id": "e4c5de4a",
   "metadata": {},
   "outputs": [
    {
     "name": "stdout",
     "output_type": "stream",
     "text": [
      "GPU is used\n"
     ]
    },
    {
     "name": "stderr",
     "output_type": "stream",
     "text": [
      "Preprocess data: 100%|██████████| 14/14 [00:02<00:00,  6.24it/s]\n",
      "Split to sentences: 100%|██████████| 4000/4000 [00:03<00:00, 1226.93it/s]\n",
      "Processing by language model: 100%|██████████| 60994/60994 [19:43<00:00, 51.52it/s]\n",
      "Filling dictionary: 100%|██████████| 60994/60994 [00:45<00:00, 1329.13it/s]\n"
     ]
    }
   ],
   "source": [
    "pos_tagged = pos_tagging()"
   ]
  },
  {
   "attachments": {},
   "cell_type": "markdown",
   "id": "c6446e83",
   "metadata": {},
   "source": [
    "# Triples extraction"
   ]
  },
  {
   "cell_type": "code",
   "execution_count": 3,
   "id": "111a5147",
   "metadata": {},
   "outputs": [],
   "source": [
    "sentences = [key for key in pos_tagged.keys()]"
   ]
  },
  {
   "cell_type": "code",
   "execution_count": 4,
   "id": "e58980fb",
   "metadata": {},
   "outputs": [
    {
     "name": "stderr",
     "output_type": "stream",
     "text": [
      "Triples extraction: 100%|██████████| 60994/60994 [00:36<00:00, 1651.20it/s]\n",
      "Move triples from dictionary to json format: 100%|██████████| 60994/60994 [00:46<00:00, 1321.81it/s]\n",
      "Clean triples: 100%|██████████| 60994/60994 [00:42<00:00, 1435.68it/s]\n",
      "Move triples from dictionary to json format: 100%|██████████| 48030/48030 [00:35<00:00, 1366.75it/s]\n"
     ]
    }
   ],
   "source": [
    "extracted_triples = {}\n",
    "for sentence in tqdm.tqdm(sentences, desc='Triples extraction'):\n",
    "    triples = extract_triples(sentence)\n",
    "    extracted_triples[sentence] = triples if triples is not None else (\"\", \"\", \"\")\n",
    "\n",
    "dump_triples_to_file(f\"{os.getcwd()}/data/extracted_triples.json\", extracted_triples)\n",
    "\n",
    "cleaned_triples = clean_triples(extracted_triples)\n",
    "\n",
    "dump_triples_to_file(f\"{os.getcwd()}/data/cleaned_triples.json\", cleaned_triples)"
   ]
  },
  {
   "attachments": {},
   "cell_type": "markdown",
   "id": "946a5fff",
   "metadata": {},
   "source": [
    "# Graph visualition"
   ]
  },
  {
   "cell_type": "code",
   "execution_count": 5,
   "id": "71a961b5",
   "metadata": {},
   "outputs": [
    {
     "name": "stdout",
     "output_type": "stream",
     "text": [
      "Local cdn resources have problems on chrome/safari when used in jupyter-notebook. \n"
     ]
    },
    {
     "name": "stderr",
     "output_type": "stream",
     "text": [
      "Build Knowledge graph: 100%|██████████| 10000/10000 [00:17<00:00, 579.75it/s]\n"
     ]
    }
   ],
   "source": [
    "cleaned_triples = load_triples(f'{os.getcwd()}/data/cleaned_triples.json')\n",
    "visualise_graph(cleaned_triples, 10000)"
   ]
  }
 ],
 "metadata": {
  "kernelspec": {
   "display_name": "Python 3 (ipykernel)",
   "language": "python",
   "name": "python3"
  },
  "language_info": {
   "codemirror_mode": {
    "name": "ipython",
    "version": 3
   },
   "file_extension": ".py",
   "mimetype": "text/x-python",
   "name": "python",
   "nbconvert_exporter": "python",
   "pygments_lexer": "ipython3",
   "version": "3.10.11"
  },
  "toc": {
   "base_numbering": 1,
   "nav_menu": {},
   "number_sections": true,
   "sideBar": true,
   "skip_h1_title": false,
   "title_cell": "Table of Contents",
   "title_sidebar": "Contents",
   "toc_cell": false,
   "toc_position": {},
   "toc_section_display": true,
   "toc_window_display": false
  },
  "varInspector": {
   "cols": {
    "lenName": 16,
    "lenType": 16,
    "lenVar": 40
   },
   "kernels_config": {
    "python": {
     "delete_cmd_postfix": "",
     "delete_cmd_prefix": "del ",
     "library": "var_list.py",
     "varRefreshCmd": "print(var_dic_list())"
    },
    "r": {
     "delete_cmd_postfix": ") ",
     "delete_cmd_prefix": "rm(",
     "library": "var_list.r",
     "varRefreshCmd": "cat(var_dic_list()) "
    }
   },
   "types_to_exclude": [
    "module",
    "function",
    "builtin_function_or_method",
    "instance",
    "_Feature"
   ],
   "window_display": false
  }
 },
 "nbformat": 4,
 "nbformat_minor": 5
}
