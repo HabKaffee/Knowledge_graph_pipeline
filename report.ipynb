{
 "cells": [
  {
   "cell_type": "code",
   "execution_count": 1,
   "id": "78de494d",
   "metadata": {},
   "outputs": [],
   "source": [
    "from src.triples_extraction import pos_tagging, extract_triplets, dump_triples_to_file\n",
    "import os\n",
    "import tqdm"
   ]
  },
  {
   "cell_type": "code",
   "execution_count": 2,
   "id": "e4c5de4a",
   "metadata": {},
   "outputs": [
    {
     "name": "stdout",
     "output_type": "stream",
     "text": [
      "GPU is used\n"
     ]
    },
    {
     "name": "stderr",
     "output_type": "stream",
     "text": [
      "Preprocess data: 100%|██████████| 15/15 [00:01<00:00,  8.07it/s]\n",
      "Split to sentences: 100%|██████████| 4000/4000 [00:03<00:00, 1070.41it/s]\n",
      "Processing by language model: 100%|██████████| 69544/69544 [22:33<00:00, 51.39it/s]\n",
      "Filling dictionary: 100%|██████████| 69544/69544 [00:53<00:00, 1295.21it/s]\n"
     ]
    }
   ],
   "source": [
    "pos_tagged = pos_tagging()"
   ]
  },
  {
   "cell_type": "code",
   "execution_count": 4,
   "id": "111a5147",
   "metadata": {},
   "outputs": [],
   "source": [
    "sentences = [key for key in pos_tagged.keys()]"
   ]
  },
  {
   "cell_type": "code",
   "execution_count": 5,
   "id": "e58980fb",
   "metadata": {},
   "outputs": [
    {
     "name": "stderr",
     "output_type": "stream",
     "text": [
      " 81%|████████▏ | 56587/69544 [00:19<00:04, 2882.36it/s]\n"
     ]
    },
    {
     "ename": "ValueError",
     "evalue": "'Ltd' is not in list",
     "output_type": "error",
     "traceback": [
      "\u001b[1;31m---------------------------------------------------------------------------\u001b[0m",
      "\u001b[1;31mValueError\u001b[0m                                Traceback (most recent call last)",
      "Cell \u001b[1;32mIn[5], line 3\u001b[0m\n\u001b[0;32m      1\u001b[0m extracted_triplets \u001b[39m=\u001b[39m {}\n\u001b[0;32m      2\u001b[0m \u001b[39mfor\u001b[39;00m sentence \u001b[39min\u001b[39;00m tqdm\u001b[39m.\u001b[39mtqdm(sentences):\n\u001b[1;32m----> 3\u001b[0m     triples \u001b[39m=\u001b[39m extract_triplets(sentence)\n\u001b[0;32m      4\u001b[0m     extracted_triplets[sentence] \u001b[39m=\u001b[39m triples \u001b[39mif\u001b[39;00m triples \u001b[39mis\u001b[39;00m \u001b[39mnot\u001b[39;00m \u001b[39mNone\u001b[39;00m \u001b[39melse\u001b[39;00m (\u001b[39m\"\u001b[39m\u001b[39m\"\u001b[39m, \u001b[39m\"\u001b[39m\u001b[39m\"\u001b[39m, \u001b[39m\"\u001b[39m\u001b[39m\"\u001b[39m)\n\u001b[0;32m      6\u001b[0m dump_triples_to_file(\u001b[39mf\u001b[39m\u001b[39m\"\u001b[39m\u001b[39m{\u001b[39;00mos\u001b[39m.\u001b[39mgetcwd()\u001b[39m}\u001b[39;00m\u001b[39m/data/extracted_triples.txt\u001b[39m\u001b[39m\"\u001b[39m, extracted_triplets)\n",
      "File \u001b[1;32md:\\programming\\Knowledge_graph_pipeline\\src\\triples_extraction.py:99\u001b[0m, in \u001b[0;36mextract_triplets\u001b[1;34m(sentence)\u001b[0m\n\u001b[0;32m     97\u001b[0m verb_phrase \u001b[39m=\u001b[39m get_longest_verb_phrase(verb_phrases) \u001b[39mif\u001b[39;00m \u001b[39mlen\u001b[39m(verb_phrases) \u001b[39m>\u001b[39m \u001b[39m1\u001b[39m \u001b[39melse\u001b[39;00m verb_phrases[\u001b[39m0\u001b[39m]\n\u001b[0;32m     98\u001b[0m left_noun_phrase \u001b[39m=\u001b[39m find_noun_phrase(sentence, verb_phrase, noun_phrases, \u001b[39m\"\u001b[39m\u001b[39mleft\u001b[39m\u001b[39m\"\u001b[39m)\n\u001b[1;32m---> 99\u001b[0m right_noun_phrase \u001b[39m=\u001b[39m find_noun_phrase(sentence, verb_phrase, noun_phrases, \u001b[39m\"\u001b[39;49m\u001b[39mright\u001b[39;49m\u001b[39m\"\u001b[39;49m)\n\u001b[0;32m    100\u001b[0m \u001b[39mreturn\u001b[39;00m (left_noun_phrase, verb_phrase, right_noun_phrase)\n",
      "File \u001b[1;32md:\\programming\\Knowledge_graph_pipeline\\src\\triples_extraction.py:88\u001b[0m, in \u001b[0;36mfind_noun_phrase\u001b[1;34m(sentence, verb_phrase, noun_phrases, side)\u001b[0m\n\u001b[0;32m     86\u001b[0m \u001b[39mif\u001b[39;00m (side \u001b[39m==\u001b[39m \u001b[39m\"\u001b[39m\u001b[39mleft\u001b[39m\u001b[39m\"\u001b[39m) \u001b[39mand\u001b[39;00m (find_start_pos(sentence, noun_phrase) \u001b[39m<\u001b[39m verb_phrase\u001b[39m.\u001b[39mstart):\n\u001b[0;32m     87\u001b[0m     \u001b[39mreturn\u001b[39;00m noun_phrase\n\u001b[1;32m---> 88\u001b[0m \u001b[39melif\u001b[39;00m (side \u001b[39m==\u001b[39m \u001b[39m\"\u001b[39m\u001b[39mright\u001b[39m\u001b[39m\"\u001b[39m) \u001b[39mand\u001b[39;00m (find_start_pos(sentence, noun_phrase) \u001b[39m>\u001b[39m verb_phrase\u001b[39m.\u001b[39mstart):\n\u001b[0;32m     89\u001b[0m     \u001b[39mreturn\u001b[39;00m noun_phrase\n",
      "File \u001b[1;32md:\\programming\\Knowledge_graph_pipeline\\src\\triples_extraction.py:81\u001b[0m, in \u001b[0;36mfind_start_pos\u001b[1;34m(sentense, noun_phrase)\u001b[0m\n\u001b[0;32m     79\u001b[0m splitted_phrase \u001b[39m=\u001b[39m noun_phrase\u001b[39m.\u001b[39msplit()\n\u001b[0;32m     80\u001b[0m splitted_sentence \u001b[39m=\u001b[39m sentense\u001b[39m.\u001b[39mtext\u001b[39m.\u001b[39msplit()\n\u001b[1;32m---> 81\u001b[0m \u001b[39mreturn\u001b[39;00m splitted_sentence\u001b[39m.\u001b[39;49mindex(splitted_phrase[\u001b[39m0\u001b[39;49m])\n",
      "\u001b[1;31mValueError\u001b[0m: 'Ltd' is not in list"
     ]
    }
   ],
   "source": [
    "extracted_triplets = {}\n",
    "for sentence in tqdm.tqdm(sentences, desc='Triples extraction'):\n",
    "    triples = extract_triplets(sentence)\n",
    "    extracted_triplets[sentence] = triples if triples is not None else (\"\", \"\", \"\")\n",
    "\n",
    "dump_triples_to_file(f\"{os.getcwd()}/data/extracted_triples.txt\", extracted_triplets)"
   ]
  },
  {
   "cell_type": "code",
   "execution_count": 7,
   "id": "5065cc7c",
   "metadata": {},
   "outputs": [
    {
     "data": {
      "text/plain": [
       "О подорожании продукции BYD Co . Ltd. сообщил Интерфакс"
      ]
     },
     "execution_count": 7,
     "metadata": {},
     "output_type": "execute_result"
    }
   ],
   "source": [
    "sentences[56587]"
   ]
  },
  {
   "cell_type": "code",
   "execution_count": 6,
   "id": "b8f07431",
   "metadata": {},
   "outputs": [
    {
     "data": {
      "text/plain": [
       "[[О, 'о', 'ADP', 'case'],\n",
       " [подорожании, 'подорожание', 'NOUN', 'obl'],\n",
       " [продукции, 'продукция', 'NOUN', 'nmod'],\n",
       " [BYD, 'byd', 'X', 'appos'],\n",
       " [Co, 'co', 'X', 'flat:foreign'],\n",
       " [., '.', 'PUNCT', 'punct'],\n",
       " [Ltd, 'ltd', 'X', 'nmod'],\n",
       " [., '.', 'PUNCT', 'punct'],\n",
       " [сообщил, 'сообщить', 'VERB', 'ROOT'],\n",
       " [Интерфакс, 'интерфакс', 'PROPN', 'nsubj']]"
      ]
     },
     "execution_count": 6,
     "metadata": {},
     "output_type": "execute_result"
    }
   ],
   "source": [
    "pos_tagged[sentences[56587]]"
   ]
  },
  {
   "cell_type": "code",
   "execution_count": null,
   "id": "dcb09bb2",
   "metadata": {},
   "outputs": [],
   "source": []
  }
 ],
 "metadata": {
  "kernelspec": {
   "display_name": "Python 3 (ipykernel)",
   "language": "python",
   "name": "python3"
  },
  "language_info": {
   "codemirror_mode": {
    "name": "ipython",
    "version": 3
   },
   "file_extension": ".py",
   "mimetype": "text/x-python",
   "name": "python",
   "nbconvert_exporter": "python",
   "pygments_lexer": "ipython3",
   "version": "3.10.11"
  },
  "toc": {
   "base_numbering": 1,
   "nav_menu": {},
   "number_sections": true,
   "sideBar": true,
   "skip_h1_title": false,
   "title_cell": "Table of Contents",
   "title_sidebar": "Contents",
   "toc_cell": false,
   "toc_position": {},
   "toc_section_display": true,
   "toc_window_display": false
  },
  "varInspector": {
   "cols": {
    "lenName": 16,
    "lenType": 16,
    "lenVar": 40
   },
   "kernels_config": {
    "python": {
     "delete_cmd_postfix": "",
     "delete_cmd_prefix": "del ",
     "library": "var_list.py",
     "varRefreshCmd": "print(var_dic_list())"
    },
    "r": {
     "delete_cmd_postfix": ") ",
     "delete_cmd_prefix": "rm(",
     "library": "var_list.r",
     "varRefreshCmd": "cat(var_dic_list()) "
    }
   },
   "types_to_exclude": [
    "module",
    "function",
    "builtin_function_or_method",
    "instance",
    "_Feature"
   ],
   "window_display": false
  }
 },
 "nbformat": 4,
 "nbformat_minor": 5
}
