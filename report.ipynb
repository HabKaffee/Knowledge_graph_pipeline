{
 "cells": [
  {
   "cell_type": "code",
   "execution_count": 1,
   "id": "78de494d",
   "metadata": {},
   "outputs": [],
   "source": [
    "from src.triples_extraction import pos_tagging, extract_triplets, dump_triples_to_file\n",
    "import os\n",
    "import tqdm"
   ]
  },
  {
   "cell_type": "code",
   "execution_count": 2,
   "id": "e4c5de4a",
   "metadata": {},
   "outputs": [
    {
     "name": "stdout",
     "output_type": "stream",
     "text": [
      "GPU is used\n"
     ]
    },
    {
     "name": "stderr",
     "output_type": "stream",
     "text": [
      "Preprocess data: 100%|██████████| 14/14 [00:02<00:00,  6.40it/s]\n",
      "Split to sentences: 100%|██████████| 4000/4000 [00:03<00:00, 1172.88it/s]\n",
      "Processing by language model: 100%|██████████| 61171/61171 [20:13<00:00, 50.40it/s]\n",
      "Filling dictionary: 100%|██████████| 61171/61171 [00:50<00:00, 1202.96it/s]\n"
     ]
    }
   ],
   "source": [
    "pos_tagged = pos_tagging()"
   ]
  },
  {
   "cell_type": "code",
   "execution_count": 3,
   "id": "111a5147",
   "metadata": {},
   "outputs": [],
   "source": [
    "sentences = [key for key in pos_tagged.keys()]"
   ]
  },
  {
   "cell_type": "code",
   "execution_count": 4,
   "id": "e58980fb",
   "metadata": {},
   "outputs": [
    {
     "name": "stderr",
     "output_type": "stream",
     "text": [
      "Triples extraction: 100%|██████████| 61171/61171 [00:37<00:00, 1625.34it/s]\n",
      "Writing data to d:\\programming\\Knowledge_graph_pipeline/data/extracted_triples.txt: 100%|██████████| 61171/61171 [00:52<00:00, 1163.01it/s]\n"
     ]
    }
   ],
   "source": [
    "extracted_triplets = {}\n",
    "for sentence in tqdm.tqdm(sentences, desc='Triples extraction'):\n",
    "    triples = extract_triplets(sentence)\n",
    "    extracted_triplets[sentence] = triples if triples is not None else (\"\", \"\", \"\")\n",
    "\n",
    "dump_triples_to_file(f\"{os.getcwd()}/data/extracted_triples.txt\", extracted_triplets)"
   ]
  }
 ],
 "metadata": {
  "kernelspec": {
   "display_name": "Python 3 (ipykernel)",
   "language": "python",
   "name": "python3"
  },
  "language_info": {
   "codemirror_mode": {
    "name": "ipython",
    "version": 3
   },
   "file_extension": ".py",
   "mimetype": "text/x-python",
   "name": "python",
   "nbconvert_exporter": "python",
   "pygments_lexer": "ipython3",
   "version": "3.10.11"
  },
  "toc": {
   "base_numbering": 1,
   "nav_menu": {},
   "number_sections": true,
   "sideBar": true,
   "skip_h1_title": false,
   "title_cell": "Table of Contents",
   "title_sidebar": "Contents",
   "toc_cell": false,
   "toc_position": {},
   "toc_section_display": true,
   "toc_window_display": false
  },
  "varInspector": {
   "cols": {
    "lenName": 16,
    "lenType": 16,
    "lenVar": 40
   },
   "kernels_config": {
    "python": {
     "delete_cmd_postfix": "",
     "delete_cmd_prefix": "del ",
     "library": "var_list.py",
     "varRefreshCmd": "print(var_dic_list())"
    },
    "r": {
     "delete_cmd_postfix": ") ",
     "delete_cmd_prefix": "rm(",
     "library": "var_list.r",
     "varRefreshCmd": "cat(var_dic_list()) "
    }
   },
   "types_to_exclude": [
    "module",
    "function",
    "builtin_function_or_method",
    "instance",
    "_Feature"
   ],
   "window_display": false
  }
 },
 "nbformat": 4,
 "nbformat_minor": 5
}
